{
 "cells": [
  {
   "cell_type": "markdown",
   "id": "97bed70e-3951-4055-9e33-a1a0bad43bad",
   "metadata": {},
   "source": [
    "# init"
   ]
  },
  {
   "cell_type": "markdown",
   "id": "d20e3a72-8ce2-40b6-afd3-02768bc4f97c",
   "metadata": {},
   "source": [
    "## imports"
   ]
  },
  {
   "cell_type": "code",
   "execution_count": 6,
   "id": "fd5f0fd3-b37f-409f-89ac-1daf1a82b60c",
   "metadata": {},
   "outputs": [],
   "source": [
    "import math\n",
    "import numpy as np\n",
    "import os\n",
    "import pandas as pd\n",
    "import warnings\n",
    "\n",
    "from tabulate import tabulate\n",
    "\n",
    "warnings.filterwarnings('ignore')"
   ]
  },
  {
   "cell_type": "markdown",
   "id": "011aee86-cd99-4468-808d-3e6598e7a730",
   "metadata": {},
   "source": [
    "## configs"
   ]
  },
  {
   "cell_type": "code",
   "execution_count": 4,
   "id": "68d9c080-e1c7-41fe-9803-e35e3a97ac3d",
   "metadata": {},
   "outputs": [],
   "source": [
    "PREDICTION_DATA_PATH = os.path.expanduser('~/class/new_york/data/test.csv')"
   ]
  },
  {
   "cell_type": "markdown",
   "id": "2e050424-07ee-4feb-b3da-090e08abad10",
   "metadata": {},
   "source": [
    "# load data"
   ]
  },
  {
   "cell_type": "code",
   "execution_count": 5,
   "id": "de93a7a9-dd29-4f9d-b8f5-7c36575c74bf",
   "metadata": {
    "scrolled": true
   },
   "outputs": [
    {
     "data": {
      "text/html": [
       "<div>\n",
       "<style scoped>\n",
       "    .dataframe tbody tr th:only-of-type {\n",
       "        vertical-align: middle;\n",
       "    }\n",
       "\n",
       "    .dataframe tbody tr th {\n",
       "        vertical-align: top;\n",
       "    }\n",
       "\n",
       "    .dataframe thead th {\n",
       "        text-align: right;\n",
       "    }\n",
       "</style>\n",
       "<table border=\"1\" class=\"dataframe\">\n",
       "  <thead>\n",
       "    <tr style=\"text-align: right;\">\n",
       "      <th></th>\n",
       "      <th>Date</th>\n",
       "      <th>PULocationID</th>\n",
       "      <th>Daily_trips</th>\n",
       "      <th>1_day_lag</th>\n",
       "      <th>2_day_lag</th>\n",
       "      <th>3_day_lag</th>\n",
       "      <th>4_day_lag</th>\n",
       "      <th>5_day_lag</th>\n",
       "      <th>6_day_lag</th>\n",
       "      <th>7_day_lag</th>\n",
       "      <th>8_day_lag</th>\n",
       "      <th>9_day_lag</th>\n",
       "      <th>10_day_lag</th>\n",
       "      <th>Pred_dt</th>\n",
       "      <th>Pred_rf</th>\n",
       "    </tr>\n",
       "  </thead>\n",
       "  <tbody>\n",
       "    <tr>\n",
       "      <th>0</th>\n",
       "      <td>2023-04-01</td>\n",
       "      <td>13</td>\n",
       "      <td>518</td>\n",
       "      <td>672.0</td>\n",
       "      <td>753.0</td>\n",
       "      <td>760.0</td>\n",
       "      <td>746.0</td>\n",
       "      <td>556.0</td>\n",
       "      <td>402.0</td>\n",
       "      <td>480.0</td>\n",
       "      <td>605.0</td>\n",
       "      <td>740.0</td>\n",
       "      <td>710.0</td>\n",
       "      <td>469.793651</td>\n",
       "      <td>458.082</td>\n",
       "    </tr>\n",
       "    <tr>\n",
       "      <th>1</th>\n",
       "      <td>2023-04-01</td>\n",
       "      <td>24</td>\n",
       "      <td>335</td>\n",
       "      <td>318.0</td>\n",
       "      <td>316.0</td>\n",
       "      <td>275.0</td>\n",
       "      <td>238.0</td>\n",
       "      <td>250.0</td>\n",
       "      <td>268.0</td>\n",
       "      <td>269.0</td>\n",
       "      <td>300.0</td>\n",
       "      <td>266.0</td>\n",
       "      <td>272.0</td>\n",
       "      <td>267.230769</td>\n",
       "      <td>302.600</td>\n",
       "    </tr>\n",
       "    <tr>\n",
       "      <th>2</th>\n",
       "      <td>2023-04-01</td>\n",
       "      <td>43</td>\n",
       "      <td>1888</td>\n",
       "      <td>1776.0</td>\n",
       "      <td>1686.0</td>\n",
       "      <td>1489.0</td>\n",
       "      <td>1537.0</td>\n",
       "      <td>1435.0</td>\n",
       "      <td>1568.0</td>\n",
       "      <td>1985.0</td>\n",
       "      <td>1714.0</td>\n",
       "      <td>1831.0</td>\n",
       "      <td>1348.0</td>\n",
       "      <td>1891.365079</td>\n",
       "      <td>1970.318</td>\n",
       "    </tr>\n",
       "    <tr>\n",
       "      <th>3</th>\n",
       "      <td>2023-04-01</td>\n",
       "      <td>48</td>\n",
       "      <td>3868</td>\n",
       "      <td>3224.0</td>\n",
       "      <td>3112.0</td>\n",
       "      <td>2934.0</td>\n",
       "      <td>2628.0</td>\n",
       "      <td>2392.0</td>\n",
       "      <td>3034.0</td>\n",
       "      <td>3780.0</td>\n",
       "      <td>3073.0</td>\n",
       "      <td>3114.0</td>\n",
       "      <td>2880.0</td>\n",
       "      <td>3651.555556</td>\n",
       "      <td>3615.644</td>\n",
       "    </tr>\n",
       "    <tr>\n",
       "      <th>4</th>\n",
       "      <td>2023-04-01</td>\n",
       "      <td>50</td>\n",
       "      <td>842</td>\n",
       "      <td>774.0</td>\n",
       "      <td>675.0</td>\n",
       "      <td>668.0</td>\n",
       "      <td>613.0</td>\n",
       "      <td>564.0</td>\n",
       "      <td>712.0</td>\n",
       "      <td>772.0</td>\n",
       "      <td>639.0</td>\n",
       "      <td>645.0</td>\n",
       "      <td>595.0</td>\n",
       "      <td>803.000000</td>\n",
       "      <td>758.004</td>\n",
       "    </tr>\n",
       "    <tr>\n",
       "      <th>...</th>\n",
       "      <td>...</td>\n",
       "      <td>...</td>\n",
       "      <td>...</td>\n",
       "      <td>...</td>\n",
       "      <td>...</td>\n",
       "      <td>...</td>\n",
       "      <td>...</td>\n",
       "      <td>...</td>\n",
       "      <td>...</td>\n",
       "      <td>...</td>\n",
       "      <td>...</td>\n",
       "      <td>...</td>\n",
       "      <td>...</td>\n",
       "      <td>...</td>\n",
       "      <td>...</td>\n",
       "    </tr>\n",
       "    <tr>\n",
       "      <th>1495</th>\n",
       "      <td>2023-04-30</td>\n",
       "      <td>249</td>\n",
       "      <td>2490</td>\n",
       "      <td>3530.0</td>\n",
       "      <td>2734.0</td>\n",
       "      <td>2363.0</td>\n",
       "      <td>2081.0</td>\n",
       "      <td>1774.0</td>\n",
       "      <td>1452.0</td>\n",
       "      <td>2419.0</td>\n",
       "      <td>3201.0</td>\n",
       "      <td>2592.0</td>\n",
       "      <td>2296.0</td>\n",
       "      <td>2547.978261</td>\n",
       "      <td>2600.132</td>\n",
       "    </tr>\n",
       "    <tr>\n",
       "      <th>1496</th>\n",
       "      <td>2023-04-30</td>\n",
       "      <td>261</td>\n",
       "      <td>440</td>\n",
       "      <td>481.0</td>\n",
       "      <td>551.0</td>\n",
       "      <td>583.0</td>\n",
       "      <td>598.0</td>\n",
       "      <td>497.0</td>\n",
       "      <td>441.0</td>\n",
       "      <td>477.0</td>\n",
       "      <td>611.0</td>\n",
       "      <td>570.0</td>\n",
       "      <td>663.0</td>\n",
       "      <td>417.212766</td>\n",
       "      <td>453.692</td>\n",
       "    </tr>\n",
       "    <tr>\n",
       "      <th>1497</th>\n",
       "      <td>2023-04-30</td>\n",
       "      <td>262</td>\n",
       "      <td>1214</td>\n",
       "      <td>1445.0</td>\n",
       "      <td>1785.0</td>\n",
       "      <td>1693.0</td>\n",
       "      <td>1735.0</td>\n",
       "      <td>1579.0</td>\n",
       "      <td>1465.0</td>\n",
       "      <td>1221.0</td>\n",
       "      <td>1451.0</td>\n",
       "      <td>1611.0</td>\n",
       "      <td>1795.0</td>\n",
       "      <td>1198.690476</td>\n",
       "      <td>1282.666</td>\n",
       "    </tr>\n",
       "    <tr>\n",
       "      <th>1498</th>\n",
       "      <td>2023-04-30</td>\n",
       "      <td>263</td>\n",
       "      <td>2189</td>\n",
       "      <td>2671.0</td>\n",
       "      <td>2561.0</td>\n",
       "      <td>2178.0</td>\n",
       "      <td>2069.0</td>\n",
       "      <td>1932.0</td>\n",
       "      <td>1735.0</td>\n",
       "      <td>1970.0</td>\n",
       "      <td>2957.0</td>\n",
       "      <td>2464.0</td>\n",
       "      <td>2262.0</td>\n",
       "      <td>2056.925000</td>\n",
       "      <td>2096.156</td>\n",
       "    </tr>\n",
       "    <tr>\n",
       "      <th>1499</th>\n",
       "      <td>2023-04-30</td>\n",
       "      <td>264</td>\n",
       "      <td>1007</td>\n",
       "      <td>1367.0</td>\n",
       "      <td>1310.0</td>\n",
       "      <td>1230.0</td>\n",
       "      <td>1110.0</td>\n",
       "      <td>1043.0</td>\n",
       "      <td>930.0</td>\n",
       "      <td>1066.0</td>\n",
       "      <td>1396.0</td>\n",
       "      <td>1160.0</td>\n",
       "      <td>1267.0</td>\n",
       "      <td>1149.321429</td>\n",
       "      <td>1122.274</td>\n",
       "    </tr>\n",
       "  </tbody>\n",
       "</table>\n",
       "<p>1500 rows × 15 columns</p>\n",
       "</div>"
      ],
      "text/plain": [
       "            Date  PULocationID  Daily_trips  1_day_lag  2_day_lag  3_day_lag  \\\n",
       "0     2023-04-01            13          518      672.0      753.0      760.0   \n",
       "1     2023-04-01            24          335      318.0      316.0      275.0   \n",
       "2     2023-04-01            43         1888     1776.0     1686.0     1489.0   \n",
       "3     2023-04-01            48         3868     3224.0     3112.0     2934.0   \n",
       "4     2023-04-01            50          842      774.0      675.0      668.0   \n",
       "...          ...           ...          ...        ...        ...        ...   \n",
       "1495  2023-04-30           249         2490     3530.0     2734.0     2363.0   \n",
       "1496  2023-04-30           261          440      481.0      551.0      583.0   \n",
       "1497  2023-04-30           262         1214     1445.0     1785.0     1693.0   \n",
       "1498  2023-04-30           263         2189     2671.0     2561.0     2178.0   \n",
       "1499  2023-04-30           264         1007     1367.0     1310.0     1230.0   \n",
       "\n",
       "      4_day_lag  5_day_lag  6_day_lag  7_day_lag  8_day_lag  9_day_lag  \\\n",
       "0         746.0      556.0      402.0      480.0      605.0      740.0   \n",
       "1         238.0      250.0      268.0      269.0      300.0      266.0   \n",
       "2        1537.0     1435.0     1568.0     1985.0     1714.0     1831.0   \n",
       "3        2628.0     2392.0     3034.0     3780.0     3073.0     3114.0   \n",
       "4         613.0      564.0      712.0      772.0      639.0      645.0   \n",
       "...         ...        ...        ...        ...        ...        ...   \n",
       "1495     2081.0     1774.0     1452.0     2419.0     3201.0     2592.0   \n",
       "1496      598.0      497.0      441.0      477.0      611.0      570.0   \n",
       "1497     1735.0     1579.0     1465.0     1221.0     1451.0     1611.0   \n",
       "1498     2069.0     1932.0     1735.0     1970.0     2957.0     2464.0   \n",
       "1499     1110.0     1043.0      930.0     1066.0     1396.0     1160.0   \n",
       "\n",
       "      10_day_lag      Pred_dt   Pred_rf  \n",
       "0          710.0   469.793651   458.082  \n",
       "1          272.0   267.230769   302.600  \n",
       "2         1348.0  1891.365079  1970.318  \n",
       "3         2880.0  3651.555556  3615.644  \n",
       "4          595.0   803.000000   758.004  \n",
       "...          ...          ...       ...  \n",
       "1495      2296.0  2547.978261  2600.132  \n",
       "1496       663.0   417.212766   453.692  \n",
       "1497      1795.0  1198.690476  1282.666  \n",
       "1498      2262.0  2056.925000  2096.156  \n",
       "1499      1267.0  1149.321429  1122.274  \n",
       "\n",
       "[1500 rows x 15 columns]"
      ]
     },
     "execution_count": 5,
     "metadata": {},
     "output_type": "execute_result"
    }
   ],
   "source": [
    "pred_df = pd.read_csv(PREDICTION_DATA_PATH)\n",
    "pred_df"
   ]
  },
  {
   "cell_type": "markdown",
   "id": "92186a55-22ed-465a-aba9-6e297f560bff",
   "metadata": {},
   "source": [
    "# evaluation"
   ]
  },
  {
   "cell_type": "markdown",
   "id": "48f08635-1762-4bab-966b-91e0bcb74520",
   "metadata": {},
   "source": [
    "## utillity functions"
   ]
  },
  {
   "cell_type": "code",
   "execution_count": 9,
   "id": "147869e3-1e85-497e-83dc-9bcb5928842c",
   "metadata": {},
   "outputs": [],
   "source": [
    "def mape(real, pred):\n",
    "    return (abs(pred - real) / real).mean()\n",
    "\n",
    "def rmse(real, pred):\n",
    "    return math.sqrt(((pred - real) ** 2).mean())"
   ]
  },
  {
   "cell_type": "markdown",
   "id": "232468a1-a662-4081-bbd2-4b735a40484e",
   "metadata": {},
   "source": [
    "## methods"
   ]
  },
  {
   "cell_type": "code",
   "execution_count": 14,
   "id": "4d022314-0619-49ff-957f-cee5cd1ce38c",
   "metadata": {},
   "outputs": [],
   "source": [
    "results_dict = {}"
   ]
  },
  {
   "cell_type": "markdown",
   "id": "265207ed-ab70-4b69-820e-057005aa1d78",
   "metadata": {},
   "source": [
    "### yesterday"
   ]
  },
  {
   "cell_type": "code",
   "execution_count": 15,
   "id": "2a8a2b55-ec5a-4c07-92f0-731a43e73801",
   "metadata": {},
   "outputs": [],
   "source": [
    "results_dict['yesterday'] = {\n",
    "    'mape': mape(pred_df['Daily_trips'], pred_df['1_day_lag']),\n",
    "    'rmse': rmse(pred_df['Daily_trips'], pred_df['1_day_lag'])\n",
    "}"
   ]
  },
  {
   "cell_type": "markdown",
   "id": "480aa532-4e95-4d89-b2db-ba3121da1683",
   "metadata": {},
   "source": [
    "### last week"
   ]
  },
  {
   "cell_type": "code",
   "execution_count": 16,
   "id": "b9d2b87e-b227-41e2-8d91-cc387e7b6425",
   "metadata": {},
   "outputs": [],
   "source": [
    "results_dict['last_week'] = {\n",
    "    'mape': mape(pred_df['Daily_trips'], pred_df['7_day_lag']),\n",
    "    'rmse': rmse(pred_df['Daily_trips'], pred_df['7_day_lag'])\n",
    "}"
   ]
  },
  {
   "cell_type": "markdown",
   "id": "0e1815ad-8cb6-4ef6-9d70-c6fa5091d969",
   "metadata": {},
   "source": [
    "### decision tree "
   ]
  },
  {
   "cell_type": "code",
   "execution_count": 18,
   "id": "fde30547-4b77-4583-90a7-81bc5713286a",
   "metadata": {},
   "outputs": [],
   "source": [
    "results_dict['decision_tree'] = {\n",
    "    'mape': mape(pred_df['Daily_trips'], pred_df['Pred_dt']),\n",
    "    'rmse': rmse(pred_df['Daily_trips'], pred_df['Pred_dt'])\n",
    "}"
   ]
  },
  {
   "cell_type": "markdown",
   "id": "5b651db7-cef2-439f-8db8-026563beb1db",
   "metadata": {},
   "source": [
    "### random forest"
   ]
  },
  {
   "cell_type": "code",
   "execution_count": 19,
   "id": "985491d7-321c-4e62-a51c-42f8ac0704a9",
   "metadata": {},
   "outputs": [],
   "source": [
    "results_dict['random_forest'] = {\n",
    "    'mape': mape(pred_df['Daily_trips'], pred_df['Pred_rf']),\n",
    "    'rmse': rmse(pred_df['Daily_trips'], pred_df['Pred_rf'])\n",
    "}"
   ]
  },
  {
   "cell_type": "markdown",
   "id": "8df8db28-a340-4537-998e-13957af15e26",
   "metadata": {},
   "source": [
    "## summerize"
   ]
  },
  {
   "cell_type": "code",
   "execution_count": 22,
   "id": "4fcdb855-88a3-42c4-bb61-20fc9f15de46",
   "metadata": {},
   "outputs": [
    {
     "name": "stdout",
     "output_type": "stream",
     "text": [
      "┌───────────────┬───────────┬─────────┐\n",
      "│ Method        │      MAPE │    RMSE │\n",
      "├───────────────┼───────────┼─────────┤\n",
      "│ yesterday     │ 0.177427  │ 493.059 │\n",
      "├───────────────┼───────────┼─────────┤\n",
      "│ last_week     │ 0.0964221 │ 279.786 │\n",
      "├───────────────┼───────────┼─────────┤\n",
      "│ decision_tree │ 0.0958253 │ 274.928 │\n",
      "├───────────────┼───────────┼─────────┤\n",
      "│ random_forest │ 0.0822316 │ 238.989 │\n",
      "└───────────────┴───────────┴─────────┘\n"
     ]
    }
   ],
   "source": [
    "result_table = [\n",
    "    [method, results_dict[method]['mape'], results_dict[method]['rmse']]\n",
    "    for method in results_dict\n",
    "]\n",
    "print(tabulate(result_table, headers=[\"Method\",\"MAPE\", \"RMSE\"], tablefmt=\"simple_grid\"))"
   ]
  },
  {
   "cell_type": "code",
   "execution_count": null,
   "id": "6d5da62e-cb2a-47c6-97bd-012255d47163",
   "metadata": {},
   "outputs": [],
   "source": []
  }
 ],
 "metadata": {
  "kernelspec": {
   "display_name": "Python 3 (ipykernel)",
   "language": "python",
   "name": "python3"
  },
  "language_info": {
   "codemirror_mode": {
    "name": "ipython",
    "version": 3
   },
   "file_extension": ".py",
   "mimetype": "text/x-python",
   "name": "python",
   "nbconvert_exporter": "python",
   "pygments_lexer": "ipython3",
   "version": "3.10.12"
  }
 },
 "nbformat": 4,
 "nbformat_minor": 5
}
