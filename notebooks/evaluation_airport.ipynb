{
 "cells": [
  {
   "cell_type": "markdown",
   "id": "97bed70e-3951-4055-9e33-a1a0bad43bad",
   "metadata": {},
   "source": [
    "# init"
   ]
  },
  {
   "cell_type": "markdown",
   "id": "d20e3a72-8ce2-40b6-afd3-02768bc4f97c",
   "metadata": {},
   "source": [
    "## imports"
   ]
  },
  {
   "cell_type": "code",
   "execution_count": 4,
   "id": "fd5f0fd3-b37f-409f-89ac-1daf1a82b60c",
   "metadata": {},
   "outputs": [],
   "source": [
    "import math\n",
    "import numpy as np\n",
    "import os\n",
    "import pandas as pd\n",
    "import warnings\n",
    "\n",
    "from tabulate import tabulate\n",
    "\n",
    "warnings.filterwarnings('ignore')"
   ]
  },
  {
   "cell_type": "markdown",
   "id": "011aee86-cd99-4468-808d-3e6598e7a730",
   "metadata": {},
   "source": [
    "## configs"
   ]
  },
  {
   "cell_type": "code",
   "execution_count": 5,
   "id": "68d9c080-e1c7-41fe-9803-e35e3a97ac3d",
   "metadata": {},
   "outputs": [],
   "source": [
    "PREDICTION_DATA_PATH = os.path.expanduser('~/class/new_york/data/test.csv')\n",
    "\n",
    "AIRPORT_LOCATIONID = 132"
   ]
  },
  {
   "cell_type": "markdown",
   "id": "2e050424-07ee-4feb-b3da-090e08abad10",
   "metadata": {},
   "source": [
    "# load data"
   ]
  },
  {
   "cell_type": "code",
   "execution_count": 3,
   "id": "de93a7a9-dd29-4f9d-b8f5-7c36575c74bf",
   "metadata": {
    "scrolled": true
   },
   "outputs": [
    {
     "data": {
      "text/html": [
       "<div>\n",
       "<style scoped>\n",
       "    .dataframe tbody tr th:only-of-type {\n",
       "        vertical-align: middle;\n",
       "    }\n",
       "\n",
       "    .dataframe tbody tr th {\n",
       "        vertical-align: top;\n",
       "    }\n",
       "\n",
       "    .dataframe thead th {\n",
       "        text-align: right;\n",
       "    }\n",
       "</style>\n",
       "<table border=\"1\" class=\"dataframe\">\n",
       "  <thead>\n",
       "    <tr style=\"text-align: right;\">\n",
       "      <th></th>\n",
       "      <th>Date</th>\n",
       "      <th>PULocationID</th>\n",
       "      <th>Daily_trips</th>\n",
       "      <th>1_day_lag</th>\n",
       "      <th>2_day_lag</th>\n",
       "      <th>3_day_lag</th>\n",
       "      <th>4_day_lag</th>\n",
       "      <th>5_day_lag</th>\n",
       "      <th>6_day_lag</th>\n",
       "      <th>7_day_lag</th>\n",
       "      <th>8_day_lag</th>\n",
       "      <th>9_day_lag</th>\n",
       "      <th>10_day_lag</th>\n",
       "      <th>Pred_dt</th>\n",
       "      <th>Pred_rf</th>\n",
       "    </tr>\n",
       "  </thead>\n",
       "  <tbody>\n",
       "    <tr>\n",
       "      <th>16</th>\n",
       "      <td>2023-04-01</td>\n",
       "      <td>132</td>\n",
       "      <td>5677</td>\n",
       "      <td>6058.0</td>\n",
       "      <td>5907.0</td>\n",
       "      <td>5367.0</td>\n",
       "      <td>5445.0</td>\n",
       "      <td>6481.0</td>\n",
       "      <td>6520.0</td>\n",
       "      <td>5190.0</td>\n",
       "      <td>5188.0</td>\n",
       "      <td>5422.0</td>\n",
       "      <td>4905.0</td>\n",
       "      <td>5395.361702</td>\n",
       "      <td>5482.900</td>\n",
       "    </tr>\n",
       "    <tr>\n",
       "      <th>66</th>\n",
       "      <td>2023-04-02</td>\n",
       "      <td>132</td>\n",
       "      <td>6897</td>\n",
       "      <td>5677.0</td>\n",
       "      <td>6058.0</td>\n",
       "      <td>5907.0</td>\n",
       "      <td>5367.0</td>\n",
       "      <td>5445.0</td>\n",
       "      <td>6481.0</td>\n",
       "      <td>6520.0</td>\n",
       "      <td>5190.0</td>\n",
       "      <td>5188.0</td>\n",
       "      <td>5422.0</td>\n",
       "      <td>6139.975610</td>\n",
       "      <td>6324.830</td>\n",
       "    </tr>\n",
       "    <tr>\n",
       "      <th>116</th>\n",
       "      <td>2023-04-03</td>\n",
       "      <td>132</td>\n",
       "      <td>6313</td>\n",
       "      <td>6897.0</td>\n",
       "      <td>5677.0</td>\n",
       "      <td>6058.0</td>\n",
       "      <td>5907.0</td>\n",
       "      <td>5367.0</td>\n",
       "      <td>5445.0</td>\n",
       "      <td>6481.0</td>\n",
       "      <td>6520.0</td>\n",
       "      <td>5190.0</td>\n",
       "      <td>5188.0</td>\n",
       "      <td>6139.975610</td>\n",
       "      <td>6473.132</td>\n",
       "    </tr>\n",
       "    <tr>\n",
       "      <th>166</th>\n",
       "      <td>2023-04-04</td>\n",
       "      <td>132</td>\n",
       "      <td>5330</td>\n",
       "      <td>6313.0</td>\n",
       "      <td>6897.0</td>\n",
       "      <td>5677.0</td>\n",
       "      <td>6058.0</td>\n",
       "      <td>5907.0</td>\n",
       "      <td>5367.0</td>\n",
       "      <td>5445.0</td>\n",
       "      <td>6481.0</td>\n",
       "      <td>6520.0</td>\n",
       "      <td>5190.0</td>\n",
       "      <td>5395.361702</td>\n",
       "      <td>5331.028</td>\n",
       "    </tr>\n",
       "    <tr>\n",
       "      <th>216</th>\n",
       "      <td>2023-04-05</td>\n",
       "      <td>132</td>\n",
       "      <td>5244</td>\n",
       "      <td>5330.0</td>\n",
       "      <td>6313.0</td>\n",
       "      <td>6897.0</td>\n",
       "      <td>5677.0</td>\n",
       "      <td>6058.0</td>\n",
       "      <td>5907.0</td>\n",
       "      <td>5367.0</td>\n",
       "      <td>5445.0</td>\n",
       "      <td>6481.0</td>\n",
       "      <td>6520.0</td>\n",
       "      <td>5395.361702</td>\n",
       "      <td>5297.502</td>\n",
       "    </tr>\n",
       "  </tbody>\n",
       "</table>\n",
       "</div>"
      ],
      "text/plain": [
       "           Date  PULocationID  Daily_trips  1_day_lag  2_day_lag  3_day_lag  \\\n",
       "16   2023-04-01           132         5677     6058.0     5907.0     5367.0   \n",
       "66   2023-04-02           132         6897     5677.0     6058.0     5907.0   \n",
       "116  2023-04-03           132         6313     6897.0     5677.0     6058.0   \n",
       "166  2023-04-04           132         5330     6313.0     6897.0     5677.0   \n",
       "216  2023-04-05           132         5244     5330.0     6313.0     6897.0   \n",
       "\n",
       "     4_day_lag  5_day_lag  6_day_lag  7_day_lag  8_day_lag  9_day_lag  \\\n",
       "16      5445.0     6481.0     6520.0     5190.0     5188.0     5422.0   \n",
       "66      5367.0     5445.0     6481.0     6520.0     5190.0     5188.0   \n",
       "116     5907.0     5367.0     5445.0     6481.0     6520.0     5190.0   \n",
       "166     6058.0     5907.0     5367.0     5445.0     6481.0     6520.0   \n",
       "216     5677.0     6058.0     5907.0     5367.0     5445.0     6481.0   \n",
       "\n",
       "     10_day_lag      Pred_dt   Pred_rf  \n",
       "16       4905.0  5395.361702  5482.900  \n",
       "66       5422.0  6139.975610  6324.830  \n",
       "116      5188.0  6139.975610  6473.132  \n",
       "166      5190.0  5395.361702  5331.028  \n",
       "216      6520.0  5395.361702  5297.502  "
      ]
     },
     "execution_count": 3,
     "metadata": {},
     "output_type": "execute_result"
    }
   ],
   "source": [
    "pred_df = pd.read_csv(PREDICTION_DATA_PATH)\n",
    "\n",
    "airport_pred_df = pred_df[pred_df['PULocationID'] == AIRPORT_LOCATIONID]\n",
    "airport_pred_df.head()"
   ]
  },
  {
   "cell_type": "markdown",
   "id": "92186a55-22ed-465a-aba9-6e297f560bff",
   "metadata": {},
   "source": [
    "# evaluation"
   ]
  },
  {
   "cell_type": "markdown",
   "id": "48f08635-1762-4bab-966b-91e0bcb74520",
   "metadata": {},
   "source": [
    "## utillity functions"
   ]
  },
  {
   "cell_type": "code",
   "execution_count": 9,
   "id": "147869e3-1e85-497e-83dc-9bcb5928842c",
   "metadata": {},
   "outputs": [],
   "source": [
    "def mape(real, pred):\n",
    "    return (abs(pred - real) / real).mean()\n",
    "\n",
    "def rmse(real, pred):\n",
    "    return math.sqrt(((pred - real) ** 2).mean())"
   ]
  },
  {
   "cell_type": "markdown",
   "id": "232468a1-a662-4081-bbd2-4b735a40484e",
   "metadata": {},
   "source": [
    "## methods"
   ]
  },
  {
   "cell_type": "code",
   "execution_count": 10,
   "id": "4d022314-0619-49ff-957f-cee5cd1ce38c",
   "metadata": {},
   "outputs": [],
   "source": [
    "results_dict = {}"
   ]
  },
  {
   "cell_type": "markdown",
   "id": "265207ed-ab70-4b69-820e-057005aa1d78",
   "metadata": {},
   "source": [
    "### yesterday"
   ]
  },
  {
   "cell_type": "code",
   "execution_count": 11,
   "id": "2a8a2b55-ec5a-4c07-92f0-731a43e73801",
   "metadata": {},
   "outputs": [],
   "source": [
    "results_dict['yesterday'] = {\n",
    "    'mape': mape(airport_pred_df['Daily_trips'], airport_pred_df['1_day_lag']),\n",
    "    'rmse': rmse(airport_pred_df['Daily_trips'], airport_pred_df['1_day_lag'])\n",
    "}"
   ]
  },
  {
   "cell_type": "markdown",
   "id": "480aa532-4e95-4d89-b2db-ba3121da1683",
   "metadata": {},
   "source": [
    "### last week"
   ]
  },
  {
   "cell_type": "code",
   "execution_count": 12,
   "id": "b9d2b87e-b227-41e2-8d91-cc387e7b6425",
   "metadata": {},
   "outputs": [],
   "source": [
    "results_dict['last_week'] = {\n",
    "    'mape': mape(airport_pred_df['Daily_trips'], airport_pred_df['7_day_lag']),\n",
    "    'rmse': rmse(airport_pred_df['Daily_trips'], airport_pred_df['7_day_lag'])\n",
    "}"
   ]
  },
  {
   "cell_type": "markdown",
   "id": "0e1815ad-8cb6-4ef6-9d70-c6fa5091d969",
   "metadata": {},
   "source": [
    "### decision tree "
   ]
  },
  {
   "cell_type": "code",
   "execution_count": 13,
   "id": "fde30547-4b77-4583-90a7-81bc5713286a",
   "metadata": {},
   "outputs": [],
   "source": [
    "results_dict['decision_tree'] = {\n",
    "    'mape': mape(airport_pred_df['Daily_trips'], airport_pred_df['Pred_dt']),\n",
    "    'rmse': rmse(airport_pred_df['Daily_trips'], airport_pred_df['Pred_dt'])\n",
    "}"
   ]
  },
  {
   "cell_type": "markdown",
   "id": "5b651db7-cef2-439f-8db8-026563beb1db",
   "metadata": {},
   "source": [
    "### random forest"
   ]
  },
  {
   "cell_type": "code",
   "execution_count": 14,
   "id": "985491d7-321c-4e62-a51c-42f8ac0704a9",
   "metadata": {},
   "outputs": [],
   "source": [
    "results_dict['random_forest'] = {\n",
    "    'mape': mape(airport_pred_df['Daily_trips'], airport_pred_df['Pred_rf']),\n",
    "    'rmse': rmse(airport_pred_df['Daily_trips'], airport_pred_df['Pred_rf'])\n",
    "}"
   ]
  },
  {
   "cell_type": "markdown",
   "id": "8df8db28-a340-4537-998e-13957af15e26",
   "metadata": {},
   "source": [
    "## summerize"
   ]
  },
  {
   "cell_type": "code",
   "execution_count": 15,
   "id": "4fcdb855-88a3-42c4-bb61-20fc9f15de46",
   "metadata": {},
   "outputs": [
    {
     "name": "stdout",
     "output_type": "stream",
     "text": [
      "┌───────────────┬───────────┬─────────┐\n",
      "│ Method        │      MAPE │    RMSE │\n",
      "├───────────────┼───────────┼─────────┤\n",
      "│ yesterday     │ 0.105091  │ 772.483 │\n",
      "├───────────────┼───────────┼─────────┤\n",
      "│ last_week     │ 0.0882864 │ 658.54  │\n",
      "├───────────────┼───────────┼─────────┤\n",
      "│ decision_tree │ 0.086866  │ 659.9   │\n",
      "├───────────────┼───────────┼─────────┤\n",
      "│ random_forest │ 0.0791774 │ 580.542 │\n",
      "└───────────────┴───────────┴─────────┘\n"
     ]
    }
   ],
   "source": [
    "result_table = [\n",
    "    [method, results_dict[method]['mape'], results_dict[method]['rmse']]\n",
    "    for method in results_dict\n",
    "]\n",
    "print(tabulate(result_table, headers=[\"Method\",\"MAPE\", \"RMSE\"], tablefmt=\"simple_grid\"))"
   ]
  }
 ],
 "metadata": {
  "kernelspec": {
   "display_name": "Python 3 (ipykernel)",
   "language": "python",
   "name": "python3"
  },
  "language_info": {
   "codemirror_mode": {
    "name": "ipython",
    "version": 3
   },
   "file_extension": ".py",
   "mimetype": "text/x-python",
   "name": "python",
   "nbconvert_exporter": "python",
   "pygments_lexer": "ipython3",
   "version": "3.10.12"
  }
 },
 "nbformat": 4,
 "nbformat_minor": 5
}
